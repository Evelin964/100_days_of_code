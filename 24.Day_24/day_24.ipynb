{
 "cells": [
  {
   "cell_type": "code",
   "execution_count": 163,
   "metadata": {},
   "outputs": [],
   "source": [
    "import PyPDF2\n",
    "from reportlab.lib.pagesizes import letter\n",
    "from reportlab.pdfgen import canvas\n",
    "import io\n",
    "import os"
   ]
  },
  {
   "cell_type": "code",
   "execution_count": 82,
   "metadata": {},
   "outputs": [],
   "source": [
    "def wrap_text(text, max_width, canvas, font_name=\"Helvetica\", font_size=24):\n",
    "    \"\"\"Wraps the text to fit within the specified width.\"\"\"\n",
    "    words = text.split()\n",
    "    lines = []\n",
    "    line = \"\"\n",
    "    \n",
    "    for word in words:\n",
    "        if canvas.stringWidth(line + \" \" + word, font_name, font_size) <= max_width:\n",
    "            line += \" \" + word\n",
    "        else:\n",
    "            lines.append(line)\n",
    "            line = word\n",
    "    lines.append(line)\n",
    "    \n",
    "    return lines\n"
   ]
  },
  {
   "cell_type": "code",
   "execution_count": 81,
   "metadata": {},
   "outputs": [],
   "source": [
    "def setup_and_draw_image(can, image_path):\n",
    "    # Drawing and setup for image\n",
    "    image_width = 1792\n",
    "    image_height = 1024\n",
    "    pdf_width, pdf_height = letter\n",
    "    scale_width = pdf_width / image_width\n",
    "    scale_height = pdf_height / image_height\n",
    "    scale = min(scale_width, scale_height)\n",
    "    new_image_width = image_width * scale\n",
    "    new_image_height = image_height * scale\n",
    "    x = (pdf_width - new_image_width) / 2\n",
    "    y = (pdf_height - new_image_height) / 2\n",
    "    can.drawImage(image_path, x, y, new_image_width, new_image_height)\n",
    "    \n",
    "    return x, y, new_image_width, new_image_height"
   ]
  },
  {
   "cell_type": "code",
   "execution_count": 137,
   "metadata": {},
   "outputs": [],
   "source": [
    "def draw_text_on_pdf(can, text1, text2):\n",
    "    pdf_width, pdf_height = letter\n",
    "\n",
    "    # Set up for Text 1\n",
    "    font_size = 30  # adjust this for desired font size\n",
    "    text_width = pdf_width - 200  # leaving some margins\n",
    "    can.setFont(\"Times-Roman\", font_size)\n",
    "\n",
    "    # Calculate the space required for wrapped Text1\n",
    "    wrapped_text1 = wrap_text(text1, text_width, can)\n",
    "    space_required_for_text1 = len(wrapped_text1) * (font_size + 5)\n",
    "\n",
    "    # Start drawing Text 1 from top, leaving some margin\n",
    "    text1_y = pdf_height - 80  # Starting near the top, adjust as needed\n",
    "    for line in wrapped_text1:\n",
    "        can.drawString((pdf_width - can.stringWidth(line, \"Times-Roman\", font_size)) / 2, text1_y, line)\n",
    "        text1_y -= (font_size + 5)\n",
    "\n",
    "    # Set up for Text 2\n",
    "    wrapped_text2 = wrap_text(text2, text_width, can)\n",
    "    space_required_for_text2 = len(wrapped_text2) * (font_size + 5)\n",
    "\n",
    "    # Start drawing Text 2 from bottom, leaving some margin\n",
    "    text2_y = -150 + space_required_for_text2  # adjust the '50' as needed\n",
    "    for line in reversed(wrapped_text2):  # reversed to print from bottom up\n",
    "        can.drawString((pdf_width - can.stringWidth(line, \"Times-Roman\", font_size)) / 2, text2_y, line)\n",
    "        text2_y += (font_size + 5)\n"
   ]
  },
  {
   "cell_type": "code",
   "execution_count": 138,
   "metadata": {},
   "outputs": [],
   "source": [
    "def create_pdf_with_text(image_path, text1, text2):\n",
    "    packet = io.BytesIO()\n",
    "    can = canvas.Canvas(packet, pagesize=letter)\n",
    "    x, y, new_image_width, new_image_height = setup_and_draw_image(can, image_path)\n",
    "    draw_text_on_pdf(can, text1=text1, text2=text2)\n",
    "    can.showPage()\n",
    "    can.save()\n",
    "    packet.seek(0)\n",
    "    # Save the resulting PDF to a file\n",
    "    new_pdf = PyPDF2.PdfReader(packet)\n",
    "    pdf = PyPDF2.PdfWriter()\n",
    "    pdf.add_page(new_pdf.pages[0])\n",
    "    with open('output.pdf', 'wb') as out:\n",
    "        pdf.write(out)\n"
   ]
  },
  {
   "cell_type": "code",
   "execution_count": 173,
   "metadata": {},
   "outputs": [],
   "source": [
    "\n",
    "# Define the image path and the two texts\n",
    "image_path = 'Nunta.png'\n",
    "base_text1 = \"{} imi face mare placere sa te invit la nunta mea.\"\n",
    "text2 = \"Dupa cum stii m-am indragostit de curand si am ales sa imi petrec restul vietii cu ea. Sper ca vei fi alaturi de mine in aceasta zi speciala. Aleasa mea e ma-ta!\"\n",
    "\n",
    "output_directory = r'C:\\Users\\ediacon\\OneDrive - MORNINGSTAR INC\\Documents\\Python Scripts\\02.100 Days of Python\\24.Day_24\\Output'\n"
   ]
  },
  {
   "cell_type": "code",
   "execution_count": 182,
   "metadata": {},
   "outputs": [],
   "source": [
    "with open(\"List_of_names.txt\",'r') as nume:\n",
    "    list_of_names = [x.strip() for x in nume.readlines()]"
   ]
  },
  {
   "cell_type": "code",
   "execution_count": 184,
   "metadata": {},
   "outputs": [],
   "source": [
    "for name in list_of_names:\n",
    "    text1 = base_text1.format(name)\n",
    "    create_pdf_with_text(image_path, text1, text2)\n",
    "    \n",
    "    \n",
    "    output_path = os.path.join(output_directory, f\"{name}.pdf\")\n",
    "    os.rename('output.pdf', output_path)"
   ]
  },
  {
   "cell_type": "code",
   "execution_count": 183,
   "metadata": {},
   "outputs": [
    {
     "data": {
      "text/plain": [
       "['Daniel']"
      ]
     },
     "execution_count": 183,
     "metadata": {},
     "output_type": "execute_result"
    }
   ],
   "source": [
    "list_of_names"
   ]
  },
  {
   "cell_type": "code",
   "execution_count": null,
   "metadata": {},
   "outputs": [],
   "source": []
  }
 ],
 "metadata": {
  "kernelspec": {
   "display_name": "Python 3",
   "language": "python",
   "name": "python3"
  },
  "language_info": {
   "codemirror_mode": {
    "name": "ipython",
    "version": 3
   },
   "file_extension": ".py",
   "mimetype": "text/x-python",
   "name": "python",
   "nbconvert_exporter": "python",
   "pygments_lexer": "ipython3",
   "version": "3.9.13"
  }
 },
 "nbformat": 4,
 "nbformat_minor": 2
}
